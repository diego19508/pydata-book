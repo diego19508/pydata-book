{
 "cells": [
  {
   "cell_type": "code",
   "execution_count": 1,
   "id": "technological-configuration",
   "metadata": {},
   "outputs": [],
   "source": [
    "from typing import List"
   ]
  },
  {
   "cell_type": "code",
   "execution_count": 2,
   "id": "fleet-banks",
   "metadata": {},
   "outputs": [],
   "source": [
    "Vector = List[float]"
   ]
  },
  {
   "cell_type": "code",
   "execution_count": 3,
   "id": "seeing-peeing",
   "metadata": {},
   "outputs": [],
   "source": [
    "height_weight_age = [70, #Inches\n",
    "                    170, #Pounds\n",
    "                    40]  #Years\n",
    "\n",
    "grades = [95, #exam1\n",
    "         80,  #exam2\n",
    "         75,  #exam3\n",
    "         62]  #exam4"
   ]
  },
  {
   "cell_type": "markdown",
   "id": "distinct-animation",
   "metadata": {},
   "source": [
    "### Add vectors"
   ]
  },
  {
   "cell_type": "code",
   "execution_count": 5,
   "id": "organized-gallery",
   "metadata": {},
   "outputs": [],
   "source": [
    "def add(v: Vector, w:Vector) -> Vector:\n",
    "    \n",
    "    assert len(v) == len(w) # Vectors must be the same lenght\n",
    "    \n",
    "    return [v_i + w_i for v_i, w_i in zip(v,w)]\n",
    "\n",
    "assert add([1,2,3], [4,5,6]) == [5,7,9]"
   ]
  },
  {
   "cell_type": "markdown",
   "id": "occupied-bishop",
   "metadata": {},
   "source": [
    "### Sustract vectors"
   ]
  },
  {
   "cell_type": "code",
   "execution_count": 6,
   "id": "united-marijuana",
   "metadata": {},
   "outputs": [],
   "source": [
    "def substract(v: Vector, w:Vector) -> Vector:\n",
    "    \n",
    "    assert len(v) == len(w) # Vectors must be the same lenght\n",
    "    \n",
    "    return [v_i - w_i for v_i, w_i in zip(v,w)]\n",
    "\n",
    "assert substract([5,7,9], [4,5,6]) == [1,2,3]"
   ]
  },
  {
   "cell_type": "markdown",
   "id": "exclusive-gibraltar",
   "metadata": {},
   "source": [
    "### Componentwise sum a list of vectors\n",
    "\n",
    "Create a new vetor whose first element is the sum of all the first elements, whose second element is the sum of all the second elements, and so on."
   ]
  },
  {
   "cell_type": "code",
   "execution_count": 8,
   "id": "located-alabama",
   "metadata": {},
   "outputs": [],
   "source": [
    "def vector_sum(vectors: List[Vector]) -> Vector:\n",
    "    \n",
    "    assert vectors # Check that vectors is not empty\n",
    "    \n",
    "    num_elements = len(vectors[0])\n",
    "    assert all(len(v) == num_elements for v in vectors)  # Check vectors are all the same size\n",
    "    \n",
    "    return [sum(vector[i] for vector in vectors) for i in range(num_elements)] # The ith element of the result is the sum of every vector\n",
    "\n",
    "assert vector_sum([[1,2], [3,4], [5,6], [7,8]]) == [16,20]  "
   ]
  },
  {
   "cell_type": "markdown",
   "id": "distinguished-excuse",
   "metadata": {},
   "source": [
    "### Multiply vector by a scalar"
   ]
  },
  {
   "cell_type": "code",
   "execution_count": 9,
   "id": "elegant-advantage",
   "metadata": {},
   "outputs": [],
   "source": [
    "def scalar_multiply(c:float, v:Vector) -> Vector:\n",
    "    \n",
    "    return [c * v_i for v_i in v]\n",
    "\n",
    "assert scalar_multiply(2, [1,2,3]) == [2, 4, 6]"
   ]
  },
  {
   "cell_type": "markdown",
   "id": "refined-there",
   "metadata": {},
   "source": [
    "### Componentwise means of a list"
   ]
  },
  {
   "cell_type": "code",
   "execution_count": 11,
   "id": "danish-blame",
   "metadata": {},
   "outputs": [],
   "source": [
    "def vector_mean(vectors: List[Vector]) -> Vector:\n",
    "    \n",
    "    n = len(vectors)\n",
    "    return scalar_multiply(1/n, vector_sum(vectors))\n",
    "\n",
    "assert vector_mean([[1,2], [3,4], [5,6]]) == [3, 4]"
   ]
  },
  {
   "cell_type": "markdown",
   "id": "vocational-hypothetical",
   "metadata": {},
   "source": [
    "### dot product"
   ]
  },
  {
   "cell_type": "code",
   "execution_count": 14,
   "id": "talented-russell",
   "metadata": {},
   "outputs": [],
   "source": [
    "def dot(v: Vector, w:Vector) -> float:\n",
    "    \n",
    "    assert len(v) == len(w)\n",
    "    \n",
    "    return sum(v_i * w_i for v_i, w_i in zip(v,w))\n",
    "\n",
    "assert dot ([1,2,3], [4,5,6]) == 32 # 1 * 4 + 2 * 5 + 3 * 6"
   ]
  },
  {
   "cell_type": "code",
   "execution_count": null,
   "id": "dressed-grill",
   "metadata": {},
   "outputs": [],
   "source": []
  }
 ],
 "metadata": {
  "kernelspec": {
   "display_name": "Python 3",
   "language": "python",
   "name": "python3"
  },
  "language_info": {
   "codemirror_mode": {
    "name": "ipython",
    "version": 3
   },
   "file_extension": ".py",
   "mimetype": "text/x-python",
   "name": "python",
   "nbconvert_exporter": "python",
   "pygments_lexer": "ipython3",
   "version": "3.7.9"
  }
 },
 "nbformat": 4,
 "nbformat_minor": 5
}
